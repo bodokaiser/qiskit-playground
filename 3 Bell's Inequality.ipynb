{
  "cells": [
    {
      "cell_type": "markdown",
      "source": [
        "# Bell's Inequality\n",
        "\n",
        "This notebook summarizes [Lorenzo Maccone. A simple proof of Bell's inequality. 2012][1].\n",
        "\n",
        "## Definitions\n",
        "\n",
        "For a **local** theory, outcomes of an experiment on one system is independent of the outcome of an experiment of another system if both systems are out of causal contact.\n",
        "\n",
        "For a **contrafactual-definite** theory, experiments can uncover pre-existing properties of a system.\n",
        "\n",
        "## Claim\n",
        "\n",
        "Quantum mechanics cannot be a **local** and **contrafactual-definite** theory.\n",
        "\n",
        "## Sketch of a proof\n",
        "\n",
        "We construct an inequality (Bell's inequality) that is true for all **local** and **contrafactual-definite** theories, then we show that quantum mechanics violates this inequality.\n",
        "\n",
        "## Implicit assumptions\n",
        "\n",
        "1. **Freedom of choice** or **no super-determinism**, the experiment has to be choosen such that it is independent of the properties to be measured.\n",
        "2. **Measurement independence**, the outcome of an experiment must not influence future outcomes.\n",
        "\n",
        "[1]: https://arxiv.org/abs/1212.5214"
      ],
      "metadata": {
        "nteract": {
          "transient": {
            "deleting": false
          }
        }
      }
    },
    {
      "cell_type": "markdown",
      "source": [
        "## Proof\n",
        "\n",
        "We consider two identical objects that are both **local** and **contrafactual-definite**. For example, we consider two coins with the following properties:\n",
        "\n",
        "| $X$ | Property | $X=0$ | $X=1$ |\n",
        "|-----|----------|---|---|\n",
        "| $A$ | Material | The coin is gold. | The coin is copper. |\n",
        "| $B$ | Texture | The coin is shiny. | The coin is dull. |\n",
        "| $C$ | Size | The coin is large. | The coin is small. |\n",
        "\n",
        "\n",
        "We don't know the properties of the objects, e.g. the coins are wrapped into two separate boxes. We know that the properties are identical. We know that the properties exist weither we measure them or not (**contrafactual-definiteness**). We consider the case where the objects are not in causal contact, i.e. our measurement is faster than light could propagate between the objects.\n",
        "\n",
        "Let $P_\\text{same}(A,B)$ denote the probability that property $A$ of the first object and property $B$ of the second object are the same, e.g. the first coin is gold and the second coin is shiny, or that the first coin is copper and the second coin is dull. Because the objects are identical,\n",
        "$$\n",
        "P_\\text{same}(A,A)=P_\\text{same}(B,B)=P_\\text{same}(C,C)=1.\n",
        "$$\n",
        "\n",
        "For two identical objects with three two-valued properties $A$, $B$ and $C$ that are local and contrafactual-definite, **Bell's inequality** states,\n",
        "\n",
        "$$\n",
        "P_\\text{same}(A,B)+P_\\text{same}(B,C)+P_\\text{same}(C,A)\\geq1,\n",
        "$$\n",
        "\n",
        "for the probability $P_\\text{same}(X,Y)$ that the first object has property $X$ and the second object has property $Y$.\n",
        "\n",
        "Intuitively, the inequality should be true as we are overcounting the propabilities.\n",
        "\n",
        "If we drop the requirement of **locality**, it is not possible to infer the properties of the second object by measurement of the first object as the measurement could have altered the properties of the second object.\n",
        "If we drop the requirement of **contrafactual-definiteness**, the properties of the objects are undetermined unless we measure them."
      ],
      "metadata": {
        "nteract": {
          "transient": {
            "deleting": false
          }
        }
      }
    },
    {
      "cell_type": "markdown",
      "source": [
        "We now construct a quantum system that violates Bell's inequality.\n",
        "\n",
        "The quantum system comprises two two-level systems (qubits) in the initial state,\n",
        "\n",
        "$$\n",
        "\\vert \\Phi_+\\rangle=\\frac{\\vert 00\\rangle+\\vert 11\\rangle}{\\sqrt{2}},\n",
        "$$\n",
        "\n",
        "wherin $\\vert00\\rangle=\\vert0\\rangle\\otimes\\vert0\\rangle$.\n",
        "\n",
        "The properties $A,B,C$ of a single qubit can be obtained by the projects,\n",
        "\n",
        "$$\n",
        "\\begin{align}\n",
        "\\vert a_0\\rangle=\\vert 0\\rangle, &&\n",
        "\\vert a_1\\rangle=\\vert 1\\rangle, \\\\\n",
        "\\vert b_0\\rangle=\\frac{\\vert 0\\rangle+\\sqrt{3}\\vert 1\\rangle}{2}, &&\n",
        "\\vert b_1\\rangle=\\frac{\\sqrt{3}\\vert 0\\rangle-\\vert 1\\rangle}{2}, \\\\\n",
        "\\vert c_0\\rangle=\\frac{\\vert 0\\rangle-\\sqrt{3}\\vert 1\\rangle}{2}, &&\n",
        "\\vert c_1\\rangle=\\frac{\\sqrt{3}\\vert 0\\rangle-\\vert 1\\rangle}{2}.\n",
        "\\end{align}\n",
        "$$\n",
        "\n",
        "One can see that $\\langle x_i\\vert x_j\\rangle=\\delta_{ij}$ for $x=a,b,c$. Furthermore, we can simply identify the (entangled) Bell state in the property basis,\n",
        "\n",
        "$$\n",
        "\\vert \\Phi_+\\rangle\n",
        "=\\frac{\\vert a_0,a_0\\rangle+\\vert a_1,a_1\\rangle}{\\sqrt{2}}\n",
        "=\\frac{\\vert b_0,b_0\\rangle+\\vert b_1,b_1\\rangle}{\\sqrt{2}}\n",
        "=\\frac{\\vert c_0,c_0\\rangle+\\vert c_1,c_1\\rangle}{\\sqrt{2}}.\n",
        "$$\n",
        "\n",
        "The quantum system satisfies,\n",
        "\n",
        "$$\n",
        "1\n",
        "=\\vert\\langle\\Phi_+\\vert\\Phi_+\\rangle\\vert^2\n",
        "=P_\\text{same}(A,A)\n",
        "=P_\\text{same}(B,B)\n",
        "=P_\\text{same}(C,C).\n",
        "$$\n",
        "\n",
        "The (initial) two-qubit system state where we express the first qubit in the basis projecting the $A$ property, and the second qubit in the basis projecting the $B$ property, is given by,\n",
        "\n",
        "$$\n",
        "\\vert \\Phi_+\\rangle=\\frac{\\vert a_0\\rangle\\left(\\vert b_0\\rangle+\\sqrt{3}\\vert b_1\\rangle\\right)+\\vert a_1\\rangle\\left(\\sqrt{3}\\vert b_0\\rangle-\\vert b_1\\rangle\\right)}{2\\sqrt{2}}.\n",
        "$$\n",
        "\n",
        "Calculating the probability amplitudes,\n",
        "\n",
        "$$\n",
        "1=\\vert\\langle\\Phi_+\\vert\\Phi_+\\rangle\\vert^2\n",
        "=\\frac{1}{8}\\vert\\langle a_0,b_0\\vert a_0,b_0\\rangle\\vert^2\n",
        "+\\frac{3}{8}\\vert\\langle a_0,b_1\\vert a_0,b_1\\rangle\\vert^2\n",
        "+\\frac{3}{8}\\vert\\langle a_1,b_0\\vert a_1,b_0\\rangle\\vert^2\n",
        "+\\frac{1}{8}\\vert\\langle a_1,b_1\\vert a_1,b_1\\rangle\\vert^2,\n",
        "$$\n",
        "\n",
        "we can identify,\n",
        "\n",
        "$$\n",
        "P_\\text{same}(A,B)=\\frac{1}{8}=P_\\text{same}(B,A).\n",
        "$$\n",
        "\n",
        "We get the same probability amplitudes for the other two cases, therefore,\n",
        "\n",
        "$$\n",
        "P_\\text{same}(A,B)+P_\\text{same}(B,C)+P_\\text{same}(C,A)=\\frac{3}{8}<1,\n",
        "$$\n",
        "\n",
        "in violation with Bell's inequality.\n"
      ],
      "metadata": {
        "nteract": {
          "transient": {
            "deleting": false
          }
        }
      }
    },
    {
      "cell_type": "markdown",
      "source": [
        "## Bell-local, hidden variable models\n",
        "\n",
        "### Relaxing contrafactual-definiteness\n",
        "\n",
        "We can relax the requirements of contrafactual-definiteness if we consider hidden variable models. In a hidden variable model there exists a property $\\lambda$ of a system that cannot be determined by measurements, hence $\\lambda$ is \"hidden\". This hidden variable $\\lambda$ may be a parameter of a probablity distribution that determines an observable properties.\n",
        "\n",
        "One can cast a contrafactual-definite theory as a theory which has a trivial probability distribution of $\\lambda$, e.g. there is a value $\\lambda=\\lambda_0$ for that,\n",
        "\n",
        "$$\n",
        "\\begin{align}\n",
        "P(A=0\\vert\\lambda=\\lambda_0)=1, &&\n",
        "P(A=1\\vert\\lambda=\\lambda_0)=0.\n",
        "\\end{align}\n",
        "$$\n",
        "\n",
        "In (my) words, we can prepare the state in such a way that they are certainly have the prepared properties (without having to be measured).\n",
        "\n",
        "### Relaxing Einstein locality\n",
        "\n",
        "We can relax Einstein locality by Bell locality if we require the probability of the outcome of a measurement to factorize, i.e.,\n",
        "\n",
        "$$\n",
        "P(X=x,X^\\prime=x^\\prime\\vert\\lambda)\n",
        "=P(X=x\\vert\\lambda)P(X^\\prime=x^\\prime\\vert\\lambda).\n",
        "$$\n",
        "\n",
        "### Bell's inequality for Bell-local, hidden variable models\n",
        "\n",
        "Suppose two objects have the same properties,\n",
        "\n",
        "$$\n",
        "1\n",
        "=P_\\text{same}(X,X)\n",
        "=\\sum_{x=0,1}P(X=x,X=x)\n",
        "=\\sum_{x=0,1}\\int d\\lambda P(X=x,X=x\\vert \\lambda)P(\\lambda).\n",
        "$$\n",
        "\n",
        "By normalization it follows that the probability that the properties differ between the two objects is,\n",
        "\n",
        "$$\n",
        "P(X=0,X=1)=P(X=1,X=0)=0.\n",
        "$$\n",
        "\n",
        "We invoke the factorization property justified by Bell locality,\n",
        "\n",
        "$$\n",
        "0=\\int d\\lambda P(X=0,X=1\\vert\\lambda)P(\\lambda)\n",
        "=\\int d\\lambda P(X=0\\vert\\lambda)P(X=1\\vert\\lambda)P(\\lambda).\n",
        "$$\n",
        "\n",
        "The former equation can only be satisfied (for all $\\lambda$) if either $P(X=0\\vert\\lambda)=0$ or $P(X=1\\vert\\lambda)$. The first one implies that $X=0$ while the second one implies $X=1$ which was exactly our definition of countrafactual-definiteness, hence, Bell-locality implies contrafactual-definiteness even for non-trivial hidden variable models."
      ],
      "metadata": {
        "nteract": {
          "transient": {
            "deleting": false
          }
        }
      }
    },
    {
      "cell_type": "markdown",
      "source": [],
      "metadata": {
        "nteract": {
          "transient": {
            "deleting": false
          }
        }
      }
    }
  ],
  "metadata": {
    "kernel_info": {
      "name": "python3"
    },
    "language_info": {
      "name": "python",
      "version": "3.8.1",
      "mimetype": "text/x-python",
      "codemirror_mode": {
        "name": "ipython",
        "version": 3
      },
      "pygments_lexer": "ipython3",
      "nbconvert_exporter": "python",
      "file_extension": ".py"
    },
    "kernelspec": {
      "argv": [
        "/Users/bodokaiser/.pyenv/versions/3.8.1/Python.framework/Versions/3.8/bin/python",
        "-m",
        "ipykernel_launcher",
        "-f",
        "{connection_file}"
      ],
      "display_name": "Python 3",
      "language": "python",
      "name": "python3"
    },
    "nteract": {
      "version": "0.22.0"
    }
  },
  "nbformat": 4,
  "nbformat_minor": 0
}