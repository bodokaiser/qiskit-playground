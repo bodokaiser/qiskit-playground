{
  "cells": [
    {
      "cell_type": "markdown",
      "source": [
        "# Classical Logic Gates using Quantum Circuits"
      ],
      "metadata": {
        "nteract": {
          "transient": {
            "deleting": false
          }
        }
      }
    },
    {
      "cell_type": "code",
      "source": [
        "from qiskit import *\n",
        "from qiskit.visualization import plot_histogram\n",
        "\n",
        "def simulate(qc):\n",
        "    job = execute(qc, Aer.get_backend(\"qasm_simulator\"), shots=1)\n",
        "    \n",
        "    return next(iter(job.result().get_counts()))"
      ],
      "outputs": [],
      "execution_count": 6,
      "metadata": {
        "collapsed": false,
        "jupyter": {
          "source_hidden": false,
          "outputs_hidden": false
        },
        "nteract": {
          "transient": {
            "deleting": false
          }
        },
        "execution": {
          "iopub.status.busy": "2020-03-04T08:35:30.529Z",
          "iopub.execute_input": "2020-03-04T08:35:30.531Z",
          "iopub.status.idle": "2020-03-04T08:35:30.534Z",
          "shell.execute_reply": "2020-03-04T08:35:30.536Z"
        }
      }
    },
    {
      "cell_type": "code",
      "source": [
        "def NOT(x):\n",
        "    qc = QuantumCircuit(1, 1)\n",
        "    \n",
        "    if x == \"1\":\n",
        "        qc.x(0)\n",
        "        \n",
        "    qc.x(0)\n",
        "\n",
        "    qc.measure(0, 0)\n",
        "    \n",
        "    return simulate(qc)\n",
        "\n",
        "NOT(\"0\"), NOT(\"1\")"
      ],
      "outputs": [
        {
          "output_type": "execute_result",
          "execution_count": 7,
          "data": {
            "text/plain": [
              "('1', '0')"
            ]
          },
          "metadata": {}
        }
      ],
      "execution_count": 7,
      "metadata": {
        "collapsed": false,
        "jupyter": {
          "source_hidden": false,
          "outputs_hidden": false
        },
        "nteract": {
          "transient": {
            "deleting": false
          }
        },
        "execution": {
          "iopub.status.busy": "2020-03-04T08:35:31.216Z",
          "iopub.execute_input": "2020-03-04T08:35:31.218Z",
          "iopub.status.idle": "2020-03-04T08:35:31.224Z",
          "shell.execute_reply": "2020-03-04T08:35:31.229Z"
        }
      }
    },
    {
      "cell_type": "code",
      "source": [
        "def XOR(x, y):\n",
        "    qc = QuantumCircuit(2, 1)\n",
        "    \n",
        "    if x == \"1\":\n",
        "        qc.x(0)\n",
        "    if y == \"1\":\n",
        "        qc.x(1)\n",
        "        \n",
        "    qc.cx(0, 1)\n",
        "    \n",
        "    qc.measure(1, 0)\n",
        "    \n",
        "    return simulate(qc)\n",
        "\n",
        "XOR(\"0\", \"0\"), XOR(\"0\", \"1\"), XOR(\"1\", \"0\"), XOR(\"1\", \"1\")"
      ],
      "outputs": [
        {
          "output_type": "execute_result",
          "execution_count": 13,
          "data": {
            "text/plain": [
              "('0', '1', '1', '0')"
            ]
          },
          "metadata": {}
        }
      ],
      "execution_count": 13,
      "metadata": {
        "collapsed": false,
        "jupyter": {
          "source_hidden": false,
          "outputs_hidden": false
        },
        "nteract": {
          "transient": {
            "deleting": false
          }
        },
        "execution": {
          "iopub.status.busy": "2020-03-04T08:39:55.529Z",
          "iopub.execute_input": "2020-03-04T08:39:55.532Z",
          "iopub.status.idle": "2020-03-04T08:39:55.547Z",
          "shell.execute_reply": "2020-03-04T08:39:55.553Z"
        }
      }
    },
    {
      "cell_type": "code",
      "source": [
        "def AND(x, y):\n",
        "    qc = QuantumCircuit(3, 1)\n",
        "    \n",
        "    if x == \"1\":\n",
        "        qc.x(0)\n",
        "    if y == \"1\":\n",
        "        qc.x(1)\n",
        "        \n",
        "    qc.ccx(0, 1, 2)\n",
        "    \n",
        "    qc.measure(2, 0)\n",
        "    \n",
        "    return simulate(qc)\n",
        "\n",
        "AND(\"0\", \"0\"), AND(\"0\", \"1\"), AND(\"1\", \"0\"), AND(\"1\", \"1\")"
      ],
      "outputs": [
        {
          "output_type": "execute_result",
          "execution_count": 14,
          "data": {
            "text/plain": [
              "('0', '0', '0', '1')"
            ]
          },
          "metadata": {}
        }
      ],
      "execution_count": 14,
      "metadata": {
        "collapsed": false,
        "jupyter": {
          "source_hidden": false,
          "outputs_hidden": false
        },
        "nteract": {
          "transient": {
            "deleting": false
          }
        },
        "execution": {
          "iopub.status.busy": "2020-03-04T08:40:32.418Z",
          "iopub.execute_input": "2020-03-04T08:40:32.433Z",
          "iopub.status.idle": "2020-03-04T08:40:32.439Z",
          "shell.execute_reply": "2020-03-04T08:40:32.444Z"
        }
      }
    },
    {
      "cell_type": "code",
      "source": [
        "def NAND(x, y):\n",
        "    qc = QuantumCircuit(3, 1)\n",
        "    \n",
        "    if x == \"1\":\n",
        "        qc.x(0)\n",
        "    if y == \"1\":\n",
        "        qc.x(1)\n",
        "        \n",
        "    qc.ccx(0, 1, 2)\n",
        "    qc.x(2)\n",
        "    \n",
        "    qc.measure(2, 0)\n",
        "    \n",
        "    return simulate(qc)\n",
        "\n",
        "NAND(\"0\", \"0\"), NAND(\"0\", \"1\"), NAND(\"1\", \"0\"), NAND(\"1\", \"1\")"
      ],
      "outputs": [
        {
          "output_type": "execute_result",
          "execution_count": 15,
          "data": {
            "text/plain": [
              "('1', '1', '1', '0')"
            ]
          },
          "metadata": {}
        }
      ],
      "execution_count": 15,
      "metadata": {
        "collapsed": false,
        "jupyter": {
          "source_hidden": false,
          "outputs_hidden": false
        },
        "nteract": {
          "transient": {
            "deleting": false
          }
        },
        "execution": {
          "iopub.status.busy": "2020-03-04T08:40:55.417Z",
          "iopub.execute_input": "2020-03-04T08:40:55.420Z",
          "iopub.status.idle": "2020-03-04T08:40:55.426Z",
          "shell.execute_reply": "2020-03-04T08:40:55.430Z"
        }
      }
    },
    {
      "cell_type": "code",
      "source": [
        "def OR(x, y):\n",
        "    qc = QuantumCircuit(3, 1)\n",
        "    \n",
        "    if x == \"1\":\n",
        "        qc.x(0)\n",
        "    if y == \"1\":\n",
        "        qc.x(1)\n",
        "\n",
        "    qc.cx(0, 2)\n",
        "    qc.cx(1, 2)\n",
        "    qc.ccx(0, 1, 2)\n",
        "    \n",
        "    qc.measure(2, 0)\n",
        "    \n",
        "    return simulate(qc)\n",
        "\n",
        "OR(\"0\", \"0\"), OR(\"0\", \"1\"), OR(\"1\", \"0\"), OR(\"1\", \"1\")"
      ],
      "outputs": [
        {
          "output_type": "execute_result",
          "execution_count": 16,
          "data": {
            "text/plain": [
              "('0', '1', '1', '1')"
            ]
          },
          "metadata": {}
        }
      ],
      "execution_count": 16,
      "metadata": {
        "collapsed": false,
        "jupyter": {
          "source_hidden": false,
          "outputs_hidden": false
        },
        "nteract": {
          "transient": {
            "deleting": false
          }
        },
        "execution": {
          "iopub.status.busy": "2020-03-04T08:43:16.371Z",
          "iopub.execute_input": "2020-03-04T08:43:16.374Z",
          "iopub.status.idle": "2020-03-04T08:43:16.381Z",
          "shell.execute_reply": "2020-03-04T08:43:16.385Z"
        }
      }
    },
    {
      "cell_type": "code",
      "source": [],
      "outputs": [],
      "execution_count": null,
      "metadata": {
        "collapsed": false,
        "jupyter": {
          "source_hidden": false,
          "outputs_hidden": false
        },
        "nteract": {
          "transient": {
            "deleting": false
          }
        }
      }
    }
  ],
  "metadata": {
    "kernel_info": {
      "name": "python3"
    },
    "language_info": {
      "name": "python",
      "version": "3.8.1",
      "mimetype": "text/x-python",
      "codemirror_mode": {
        "name": "ipython",
        "version": 3
      },
      "pygments_lexer": "ipython3",
      "nbconvert_exporter": "python",
      "file_extension": ".py"
    },
    "kernelspec": {
      "argv": [
        "/Users/bodokaiser/.pyenv/versions/3.8.1/Python.framework/Versions/3.8/bin/python",
        "-m",
        "ipykernel_launcher",
        "-f",
        "{connection_file}"
      ],
      "display_name": "Python 3",
      "language": "python",
      "name": "python3"
    },
    "nteract": {
      "version": "0.22.0"
    }
  },
  "nbformat": 4,
  "nbformat_minor": 0
}