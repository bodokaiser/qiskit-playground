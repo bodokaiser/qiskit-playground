{
  "cells": [
    {
      "cell_type": "markdown",
      "source": [
        "# Superdense Coding\n",
        "\n",
        "In this notebook, we will implement superdense coding based on a [Qiskit tutorial].\n",
        "\n",
        "Superdense coding is conceptual closely related to quantum teleportation, the difference is that one uses the entangled qubit pair to send a classical message.\n",
        "\n",
        "[1]: https://qiskit.org/textbook/ch-algorithms/superdense-coding.html"
      ],
      "metadata": {
        "nteract": {
          "transient": {
            "deleting": false
          }
        }
      }
    },
    {
      "cell_type": "markdown",
      "source": [
        "Eve prepares an entangled state,\n",
        "\n",
        "$$\n",
        "\\vert\\Phi\\rangle=\\frac{\\vert00\\rangle+\\vert11\\rangle}{\\sqrt{2}},\n",
        "$$\n",
        "\n",
        "by applying a Hadamard gate to the first qubit, followed by a CNOT gate targetting the second qubit controlled by the first qubit.\n",
        "Thereafter, Eve sends one of the entangled pair of qubits to Alice and the other one to Bob.\n",
        "\n",
        "Depending on the bits Alice wants to transmit to Bob, she applies a quantum operation on her qubit,\n",
        "\n",
        "| Bits | Operator $X$ | New state $\\vert\\Psi\\rangle=(X\\otimes1)\\vert\\Phi\\rangle$ |\n",
        "|-|-|-|\n",
        "| 00 | $1$ | $\\left(\\vert00\\rangle+\\vert11\\rangle\\right)/\\sqrt{2}$ |\n",
        "| 01 | $\\sigma_x$ | $\\left(\\vert01\\rangle+\\vert10\\rangle\\right)/\\sqrt{2}$ |\n",
        "| 10 | $\\sigma_z$ | $\\left(\\vert00\\rangle-\\vert11\\rangle\\right)/\\sqrt{2}$ |\n",
        "| 11 | $\\sigma_z\\sigma_x$ | $\\left(\\vert01\\rangle-\\vert10\\rangle\\right)/\\sqrt{2}$\n",
        "\n",
        "and sends her qubit to Bob. Bob receives Alice's qubit and decodes it by appliying first a CNOT and then a Hadamard operation,\n",
        "\n",
        "| Bits | Received state $\\vert\\Psi\\rangle$ | New state $(H\\otimes1)C_X\\vert\\Psi\\rangle$ |\n",
        "|-|-|-|\n",
        "| 00 | $\\left(\\vert00\\rangle+\\vert11\\rangle\\right)/\\sqrt{2}$ | $H\\frac{\\vert00\\rangle+\\vert10\\rangle}{\\sqrt{2}}=\\vert00\\rangle$ |\n",
        "| 01 | $\\left(\\vert01\\rangle+\\vert10\\rangle\\right)/\\sqrt{2}$ | $H\\frac{\\vert01\\rangle+\\vert11\\rangle}{\\sqrt{2}}=\\vert01\\rangle$ |\n",
        "| 10 | $\\left(\\vert00\\rangle-\\vert11\\rangle\\right)/\\sqrt{2}$ | $H\\frac{\\vert00\\rangle-\\vert10\\rangle}{\\sqrt{2}}=\\vert10\\rangle$ |\n",
        "| 11 | $\\left(\\vert01\\rangle-\\vert10\\rangle\\right)/\\sqrt{2}$ | $H\\frac{\\vert01\\rangle-\\vert11\\rangle}{\\sqrt{2}}=\\vert11\\rangle$ |\n",
        "\n",
        "wherein we have used,\n",
        "\n",
        "$$\n",
        "\\begin{align}\n",
        "C_X\\vert00\\rangle=\\vert00\\rangle, &&\n",
        "C_X\\vert01\\rangle=\\vert01\\rangle, &&\n",
        "C_X\\vert10\\rangle=\\vert11\\rangle, &&\n",
        "C_X\\vert11\\rangle=\\vert10\\rangle.\n",
        "\\end{align}\n",
        "$$"
      ],
      "metadata": {
        "nteract": {
          "transient": {
            "deleting": false
          }
        }
      }
    },
    {
      "cell_type": "code",
      "source": [
        "import numpy as np\n",
        "import qiskit as qk\n",
        "\n",
        "def superdense_coding_circuit(bits):\n",
        "    qr = qk.QuantumRegister(2)\n",
        "    cr = qk.ClassicalRegister(2)\n",
        "    qc = qk.QuantumCircuit(qr, cr)\n",
        "\n",
        "    # create entangled pair of qubits\n",
        "    qc.h(qr[0])\n",
        "    qc.cx(qr[0], qr[1])\n",
        "    qc.barrier()\n",
        "\n",
        "    # Alice encodes the bits into her qubit\n",
        "    if bits == \"01\":\n",
        "        qc.x(qr[0])\n",
        "    if bits == \"10\":\n",
        "        qc.z(qr[0])\n",
        "    if bits == \"11\":\n",
        "        qc.z(qr[0])\n",
        "        qc.x(qr[0])\n",
        "    qc.barrier()\n",
        "\n",
        "    # Bob decodes her qubit\n",
        "    qc.cx(qr[0], qr[1])\n",
        "    qc.h(qr[0])\n",
        "    qc.barrier()\n",
        "\n",
        "    # Bob measures the qubit\n",
        "    qc.measure(qr[0], cr[0])\n",
        "    qc.measure(qr[1], cr[1])\n",
        "    \n",
        "    return qc"
      ],
      "outputs": [],
      "execution_count": 6,
      "metadata": {
        "collapsed": false,
        "jupyter": {
          "source_hidden": false,
          "outputs_hidden": false
        },
        "nteract": {
          "transient": {
            "deleting": false
          }
        },
        "execution": {
          "iopub.status.busy": "2020-03-06T12:22:53.265Z",
          "iopub.execute_input": "2020-03-06T12:22:53.267Z",
          "iopub.status.idle": "2020-03-06T12:22:53.270Z",
          "shell.execute_reply": "2020-03-06T12:22:53.276Z"
        }
      }
    },
    {
      "cell_type": "code",
      "source": [
        "superdense_coding_circuit(\"10\").draw(output=\"mpl\")"
      ],
      "outputs": [
        {
          "output_type": "execute_result",
          "execution_count": 8,
          "data": {
            "text/plain": [
              "<Figure size 791.028x204.68 with 1 Axes>"
            ],
            "image/png": "[encoded data removed]"
          },
          "metadata": {
            "image/png": {
              "width": 611,
              "height": 168
            }
          }
        }
      ],
      "execution_count": 8,
      "metadata": {
        "collapsed": false,
        "jupyter": {
          "source_hidden": false,
          "outputs_hidden": false
        },
        "nteract": {
          "transient": {
            "deleting": false
          }
        },
        "execution": {
          "iopub.status.busy": "2020-03-06T12:23:00.600Z",
          "iopub.execute_input": "2020-03-06T12:23:00.602Z",
          "iopub.status.idle": "2020-03-06T12:23:01.444Z",
          "shell.execute_reply": "2020-03-06T12:23:01.447Z"
        }
      }
    },
    {
      "cell_type": "code",
      "source": [
        "backend = qk.Aer.get_backend('qasm_simulator')\n",
        "\n",
        "def simulate(qc):\n",
        "    return qk.execute(qc, backend, shots=1024).result().get_counts()\n",
        "\n",
        "[simulate(superdense_coding_circuit(bits)) for bits in [\"00\", \"01\", \"10\", \"11\"]]"
      ],
      "outputs": [
        {
          "output_type": "execute_result",
          "execution_count": 11,
          "data": {
            "text/plain": [
              "[{'00': 1024}, {'10': 1024}, {'01': 1024}, {'11': 1024}]"
            ]
          },
          "metadata": {}
        }
      ],
      "execution_count": 11,
      "metadata": {
        "collapsed": false,
        "jupyter": {
          "source_hidden": false,
          "outputs_hidden": false
        },
        "nteract": {
          "transient": {
            "deleting": false
          }
        },
        "execution": {
          "iopub.status.busy": "2020-03-06T12:24:10.907Z",
          "iopub.execute_input": "2020-03-06T12:24:10.911Z",
          "iopub.status.idle": "2020-03-06T12:24:10.944Z",
          "shell.execute_reply": "2020-03-06T12:24:10.947Z"
        }
      }
    },
    {
      "cell_type": "code",
      "source": [],
      "outputs": [],
      "execution_count": null,
      "metadata": {
        "collapsed": false,
        "jupyter": {
          "source_hidden": false,
          "outputs_hidden": false
        },
        "nteract": {
          "transient": {
            "deleting": false
          }
        }
      }
    }
  ],
  "metadata": {
    "kernel_info": {
      "name": "python3"
    },
    "language_info": {
      "name": "python",
      "version": "3.8.1",
      "mimetype": "text/x-python",
      "codemirror_mode": {
        "name": "ipython",
        "version": 3
      },
      "pygments_lexer": "ipython3",
      "nbconvert_exporter": "python",
      "file_extension": ".py"
    },
    "kernelspec": {
      "argv": [
        "/Users/bodokaiser/.pyenv/versions/3.8.1/Python.framework/Versions/3.8/bin/python",
        "-m",
        "ipykernel_launcher",
        "-f",
        "{connection_file}"
      ],
      "display_name": "Python 3",
      "language": "python",
      "name": "python3"
    },
    "nteract": {
      "version": "0.22.0"
    }
  },
  "nbformat": 4,
  "nbformat_minor": 0
}