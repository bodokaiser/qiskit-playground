{
  "cells": [
    {
      "cell_type": "markdown",
      "source": [
        "# Basic Synthesis of Single-Qubit Gates"
      ],
      "metadata": {
        "nteract": {
          "transient": {
            "deleting": false
          }
        }
      }
    },
    {
      "cell_type": "code",
      "source": [
        "from qiskit import *\n",
        "from qiskit.visualization import plot_histogram"
      ],
      "outputs": [],
      "execution_count": 1,
      "metadata": {
        "collapsed": false,
        "jupyter": {
          "source_hidden": false,
          "outputs_hidden": false
        },
        "nteract": {
          "transient": {
            "deleting": false
          }
        },
        "execution": {
          "iopub.status.busy": "2020-03-04T08:48:03.016Z",
          "iopub.execute_input": "2020-03-04T08:48:03.020Z",
          "iopub.status.idle": "2020-03-04T08:48:06.313Z",
          "shell.execute_reply": "2020-03-04T08:48:06.317Z"
        }
      }
    },
    {
      "cell_type": "markdown",
      "source": [
        "Show that the Hadamard gate (here given in the $z$ eigenbasis),\n",
        "$$\n",
        "H\n",
        "=\n",
        "\\frac{1}{\\sqrt{2}}\n",
        "\\begin{pmatrix}\n",
        "1 & 1 \\\\\n",
        "1 & -1\n",
        "\\end{pmatrix}=\\frac{\\sigma_x+\\sigma_z}{\\sqrt{2}}\\tag{1},\n",
        "$$\n",
        "can be written as,\n",
        "$$\n",
        "H=\\exp\\left\\{i\\frac{\\pi}{2}H+i\\varphi\\right\\}\\tag{2},\n",
        "$$\n",
        "with the Pauli matrices,\n",
        "$$\n",
        "\\begin{align}\n",
        "\\sigma_x=\\begin{pmatrix}0 & 1\\\\ 1 & 0\\end{pmatrix}, &&\n",
        "\\sigma_z=\\begin{pmatrix}1 & 0\\\\ 0 & -1\\end{pmatrix}.\\tag{3}\n",
        "\\end{align}\n",
        "$$"
      ],
      "metadata": {
        "nteract": {
          "transient": {
            "deleting": false
          }
        }
      }
    },
    {
      "cell_type": "markdown",
      "source": [
        "## Generator of the Hadamard gate\n",
        "\n",
        "To show the first equal in (2), we just have to insert (3).\n",
        "\n",
        "To show the second equal in (2), we first note that the Pauli matrices are unitary and hermetian,\n",
        "$$\n",
        "U^{-1}=U^\\dagger=U\\in\\mathbb{C}^{2\\times2}.\n",
        "$$\n",
        "If a matrix $U$ is hermetian and unitary it follows that,\n",
        "$$\n",
        "\\mathbb{1}=UU^{-1}=U^2,\n",
        "$$\n",
        "is true.\n",
        "We can generalize the previous result for $n\\in\\mathbb{N}_0$,\n",
        "$$\n",
        "\\begin{align}\n",
        "U^{2n}=\\left(U^2\\right)^n=\\left(\\mathbb{1}\\right)^n=\\mathbb{1}, &&\n",
        "U^{2n+1}=U\\left(U^2\\right)^n=U. &&\n",
        "\\end{align}\n",
        "$$\n",
        "\n",
        "Using the previous result, we can evaluate the exponential of a hermitian and unitary matrix $U$ with a prefactor $\\phi\\in\\mathbb{R}$,\n",
        "$$\n",
        "\\begin{align}\n",
        "\\exp(i\\phi U)\n",
        "&=\\sum^\\infty_{n=0}\\frac{1}{n!}(i\\phi U)^n\\\\\n",
        "&=\\sum^\\infty_{n=0}\\frac{1}{(2n)!}(i\\phi)^{2n}U^{2n}+\\sum^\\infty_{n=0}\\frac{1}{(2n+1)!}(i\\phi)^{2n+1}U^{2n+1}\\\\\n",
        "&=\\mathbb{1}\\sum^\\infty_{n=0}\\frac{1}{(2n)!}(i\\phi)^{2n}+U\\sum^\\infty_{n=0}\\frac{1}{(2n+1)!}(i\\phi)^{2n+1}.\n",
        "\\tag{3}\n",
        "\\end{align}\n",
        "$$\n",
        "\n",
        "We remind ourselves of the identity,\n",
        "$$\n",
        "e^{i\\phi}=\\cos\\phi+i\\sin\\phi,\n",
        "$$\n",
        "yielding,\n",
        "$$\n",
        "\\begin{align}\n",
        "\\cos\\phi\n",
        "=\\sum^\\infty_{n=0}\\frac{(-1)^n}{(2n)!}\\phi^{2n},\n",
        "&&\n",
        "\\sin\\phi\n",
        "=i\\sum^\\infty_{n=0}\\frac{(-1)^n}{(2n+1)!}\\phi^{2n+1}.\n",
        "\\tag{4}\n",
        "\\end{align}\n",
        "$$\n",
        "Using (4), we can rewrite (3) as,\n",
        "$$\n",
        "\\exp(i\\phi U)\n",
        "=\\cos\\phi+iU\\sin\\phi.\n",
        "$$\n",
        "\n",
        "We are left to identify $U=H=(\\sigma_x+\\sigma_z)/\\sqrt{2}$ and $\\phi=\\pi/2$, yielding,\n",
        "$$\n",
        "\\exp\\left\\{i\\frac{\\pi}{2}H\\right\\}\n",
        "=iH=H\\exp\\frac{i\\pi}{2},\n",
        "$$\n",
        "which proves the required statement."
      ],
      "metadata": {
        "nteract": {
          "transient": {
            "deleting": false
          }
        }
      }
    },
    {
      "cell_type": "markdown",
      "source": [
        "## First approximation to the Hadamard gate\n",
        "\n",
        "With the previous result,\n",
        "$$\n",
        "\\exp{i\\frac{\\pi}{2}H}=H\\exp(i\\varphi),\n",
        "$$\n",
        "we will show that,\n",
        "$$\n",
        "H_n=\\left(R_x(\\theta/n)R_z(\\theta/n)\\right)^n,\\tag{5}\n",
        "$$\n",
        "is a finite approximation of the Hadamard gate with,\n",
        "$$\n",
        "\\begin{align}\n",
        "R_x(\\theta)=\\exp\\{i\\frac{\\pi}{2}\\theta\\sigma_x\\}, &&\n",
        "R_z(\\theta)=\\exp\\{i\\frac{\\pi}{2}\\theta\\sigma_z\\},\n",
        "\\end{align}\n",
        "$$\n",
        "being the rotation operators generated by the Pauli matrices $\\sigma_x,\\sigma_z$."
      ],
      "metadata": {
        "nteract": {
          "transient": {
            "deleting": false
          }
        }
      }
    },
    {
      "cell_type": "markdown",
      "source": [
        "We remark that the product of two exponentials with non-commuting argument is given by the Baker-Camphell-Haussdorff formula,\n",
        "$$\n",
        "e^Xe^Y=e^{X+Y+\\frac{1}{2}[X,Y]+\\dots}.\n",
        "$$\n",
        "For the product of our rotation matrices we find,\n",
        "$$\n",
        "R_x(\\theta/n)R_z(\\theta/n)=\\exp\\{\\frac{i\\pi}{2n}(\\sigma_x+\\sigma_z)\\theta+i(\\frac{\\pi}{2n}\\theta)^2\\sigma_y+\\dots\\}.\n",
        "$$\n",
        "For $n\\to\\infty$ the second term will vanish and we will obtain the Hadamard gate (up to a global phase) for the choice $\\theta=1/\\sqrt{2}$. This can be seen when we compare the first term with the generator expression of the Hadamard gate.\n",
        "\n",
        "Writing out the exponential series we find,\n",
        "$$\n",
        "\\begin{align}\n",
        "R_x(\\frac{1}{\\sqrt{2}n})R_z(\\frac{1}{\\sqrt{2}n})\n",
        "&=\\exp\\{\\frac{i\\pi}{2n}H+i(\\frac{\\pi}{2n})^2\\frac{\\sigma_y}{2}+\\dots\\}\\\\\n",
        "&=\\sum^\\infty_{m=0}\\frac{1}{m!}\\left(\\frac{i\\pi}{2n}H+i(\\frac{\\pi}{2n})^2\\frac{\\sigma_y}{2}+\\dots\\right)^m\\\\\n",
        "&=\\sum^\\infty_{m=0}\\frac{1}{m!}(\\frac{i\\pi}{2n}H)^m+i(\\frac{\\pi}{2n})^2\\frac{\\sigma_y}{2}+\\mathcal{O}(\\frac{1}{n^3})\\\\\n",
        "&=\\exp(\\frac{i\\pi}{2n}H)+\\frac{i\\pi^2}{8n^2}\\sigma_y+\\mathcal{O}(\\frac{1}{n^3}).\\tag{6}\n",
        "\\end{align}\n",
        "$$\n",
        "\n",
        "We insert (6) into (5) and find that the first finite approximation of the Hadamard gate is,\n",
        "$$\n",
        "H_n=\\left(\\exp(\\frac{i\\pi}{2n}H)+\\frac{i\\pi^2}{8n^2}\\sigma_y+\\mathcal{O}(\\frac{1}{n^3})\\right)^n,\n",
        "$$\n",
        "which asymptotically for $n\\to\\infty$ approaches,\n",
        "$$\n",
        "\\begin{align}\n",
        "H_n\n",
        "&=\\exp(\\frac{i\\pi}{2n}H)^n+\\frac{i\\pi^2}{8n^2}[\\exp(\\frac{i\\pi}{2n}H),\\sigma_y]+\\mathcal{O}(\\frac{1}{n^3})\\\\\n",
        "&=H\\exp{i\\varphi}+\\frac{i\\pi^2}{8n^2}\\exp{i\\varphi}[H,\\sigma_y]++\\mathcal{O}(\\frac{1}{n^3}).\n",
        "\\end{align}\n",
        "$$\n",
        "\n",
        "We will neglect the global phase as has no effect on the expected values. The commutator of $H$ with $\\sigma_y$ is,\n",
        "$$\n",
        "[H,\\sigma_y]=\\frac{1}{\\sqrt{2}}[\\sigma_x+\\sigma_z,\\sigma_y]=i\\sqrt{2}\\left(\\sigma_z-\\sigma_x\\right).\n",
        "$$\n",
        "\n",
        "Our final result is,\n",
        "$$\n",
        "H_n=H+\\frac{i\\pi^2}{\\sqrt{2}n^3}(\\sigma_z-\\sigma_x)+\\mathcal{O}(\\frac{1}{n^3}).\\tag{7}\n",
        "$$\n",
        "In words our first finite approximation of order $n$ to the Hadamard gate introduces an error that decreases with $1/n^2$."
      ],
      "metadata": {
        "nteract": {
          "transient": {
            "deleting": false
          }
        }
      }
    },
    {
      "cell_type": "markdown",
      "source": [],
      "metadata": {
        "nteract": {
          "transient": {
            "deleting": false
          }
        }
      }
    }
  ],
  "metadata": {
    "kernel_info": {
      "name": "python3"
    },
    "language_info": {
      "name": "python",
      "version": "3.8.1",
      "mimetype": "text/x-python",
      "codemirror_mode": {
        "name": "ipython",
        "version": 3
      },
      "pygments_lexer": "ipython3",
      "nbconvert_exporter": "python",
      "file_extension": ".py"
    },
    "kernelspec": {
      "argv": [
        "/Users/bodokaiser/.pyenv/versions/3.8.1/Python.framework/Versions/3.8/bin/python",
        "-m",
        "ipykernel_launcher",
        "-f",
        "{connection_file}"
      ],
      "display_name": "Python 3",
      "language": "python",
      "name": "python3"
    },
    "nteract": {
      "version": "0.22.0"
    }
  },
  "nbformat": 4,
  "nbformat_minor": 0
}